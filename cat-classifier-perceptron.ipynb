{
 "cells": [
  {
   "cell_type": "markdown",
   "id": "656a28f2",
   "metadata": {},
   "source": [
    "# 🧠 Perceptron from Scratch\n",
    "This project demonstrates a simple implementation of a binary image classifier using a **perceptron**, one of the earliest neural network algorithms.\n",
    "\n",
    "We classify small 2D grayscale images into two categories: **cat** (1) or **non-cat** (0).\n",
    "\n",
    "This is a fully open-source example using only **NumPy**, with no external ML libraries like TensorFlow or PyTorch.\n",
    "\n",
    "---"
   ]
  },
  {
   "cell_type": "markdown",
   "id": "a96f230b",
   "metadata": {},
   "source": [
    "**In this example we will:**\n",
    "- Build the general architecture of a learning algorithm, including:\n",
    "    - Initializing parameters\n",
    "    - Calculating the cost function and its gradient\n",
    "    - Using an optimization algorithm (gradient descent) \n",
    "- Gather all three functions above into a main model function, in the right order."
   ]
  },
  {
   "cell_type": "code",
   "execution_count": 1,
   "id": "7b86861c",
   "metadata": {},
   "outputs": [],
   "source": [
    "import numpy as np\n",
    "import copy\n",
    "import matplotlib.pyplot as plt\n",
    "\n",
    "import h5py\n",
    "\n",
    "from PIL import Image"
   ]
  },
  {
   "cell_type": "markdown",
   "id": "bf5cbd61",
   "metadata": {},
   "source": [
    "---\n",
    "## Part 1. Preparing the dataset"
   ]
  },
  {
   "cell_type": "markdown",
   "id": "b1cc2c30",
   "metadata": {},
   "source": [
    "**Problem Statement**:\n",
    "We are provided with a dataset (data.h5) that contains:\n",
    "\n",
    "- A training set of m_train images labeled as cat (y=1) or non-cat (y=0)\n",
    "\n",
    "- A test set of m_test images labeled similarly\n",
    "\n",
    "- Each image has the shape (num_px, num_px, 3), representing square RGB images\n",
    "\n",
    "Our goal is to build a simple image recognition algorithm that can automatically classify images as either cat or non-cat.\n",
    "\n"
   ]
  },
  {
   "cell_type": "code",
   "execution_count": 2,
   "id": "c0f550b5",
   "metadata": {},
   "outputs": [],
   "source": [
    "def load_dataset():\n",
    "    \"\"\"\n",
    "    Loads the Cat vs Non-Cat dataset from HDF5 files.\n",
    "\n",
    "    Returns:\n",
    "        train_set_x_orig (np.ndarray): Training images.\n",
    "        train_set_y_orig (np.ndarray): Training labels (0 = non-cat, 1 = cat).\n",
    "        test_set_x_orig (np.ndarray): Test images.\n",
    "        test_set_y_orig (np.ndarray): Test labels.\n",
    "        classes (np.ndarray): Array containing the class names.\n",
    "    \"\"\"\n",
    "\n",
    "    train_dataset = h5py.File('datasets/train_catvnoncat.h5', \"r\")\n",
    "    test_dataset = h5py.File('datasets/test_catvnoncat.h5', \"r\")\n",
    "\n",
    "    train_set_x_orig = np.array(train_dataset[\"train_set_x\"][:])\n",
    "    train_set_y_orig = np.array(train_dataset[\"train_set_y\"][:])\n",
    "\n",
    "    test_set_x_orig = np.array(test_dataset[\"test_set_x\"][:])\n",
    "    test_set_y_orig = np.array(test_dataset[\"test_set_y\"][:])\n",
    "\n",
    "    classes = np.array(test_dataset[\"list_classes\"][:])\n",
    "\n",
    "    train_set_y_orig = train_set_y_orig.reshape((1, train_set_y_orig.shape[0]))\n",
    "    test_set_y_orig = test_set_y_orig.reshape((1, test_set_y_orig.shape[0]))\n",
    "\n",
    "    return train_set_x_orig, train_set_y_orig, test_set_x_orig, test_set_y_orig, classes"
   ]
  },
  {
   "cell_type": "code",
   "execution_count": 3,
   "id": "721bfdde",
   "metadata": {},
   "outputs": [],
   "source": [
    "# Load training and test datasets (Cat vs Non-Cat)\n",
    "train_set_x_orig, train_set_y, test_set_x_orig, test_set_y, classes = load_dataset()"
   ]
  },
  {
   "cell_type": "code",
   "execution_count": 4,
   "id": "7bbbd9a3",
   "metadata": {},
   "outputs": [
    {
     "name": "stdout",
     "output_type": "stream",
     "text": [
      "Label: y = 1 → This is a **cat**.\n"
     ]
    },
    {
     "data": {
      "image/png": "[encoded data removed]",
      "text/plain": [
       "<Figure size 640x480 with 1 Axes>"
      ]
     },
     "metadata": {},
     "output_type": "display_data"
    }
   ],
   "source": [
    "# Display an example image from the training set\n",
    "index = 42\n",
    "plt.imshow(train_set_x_orig[index])\n",
    "label = train_set_y[0, index]\n",
    "label_text = classes[label].decode(\"utf-8\")\n",
    "\n",
    "print(f\"Label: y = {label} → This is a **{label_text}**.\")"
   ]
  },
  {
   "cell_type": "code",
   "execution_count": 5,
   "id": "954687aa",
   "metadata": {},
   "outputs": [
    {
     "name": "stdout",
     "output_type": "stream",
     "text": [
      "Training examples: 209\n",
      "Test examples: 50\n",
      "Each image has dimensions: (64, 64, 3)\n"
     ]
    }
   ],
   "source": [
    "# Dataset summary\n",
    "print(\"Training examples:\", train_set_x_orig.shape[0])\n",
    "print(\"Test examples:\", test_set_x_orig.shape[0])\n",
    "\n",
    "num_px = test_set_x_orig.shape[1]\n",
    "print(f\"Each image has dimensions: ({num_px}, {num_px}, 3)\")"
   ]
  },
  {
   "cell_type": "markdown",
   "id": "2a23b479",
   "metadata": {},
   "source": [
    "### 📐 Reshaping the Data\n",
    "\n",
    "To prepare the dataset for the neural network, we flatten each RGB image of shape `(num_px, num_px, 3)` \n",
    "\n",
    "into a column vector of shape `(num_px * num_px * 3, 1)`.\n",
    "\n",
    "This is done for both training and test sets:\n",
    "\n",
    "```python\n",
    "X_flatten = X.reshape(X.shape[0], -1).T  # Each column becomes one flattened image\n",
    "```"
   ]
  },
  {
   "cell_type": "code",
   "execution_count": 6,
   "id": "a283a57d",
   "metadata": {},
   "outputs": [],
   "source": [
    "# Flatten the training and test image sets\n",
    "train_set_x_flatten = train_set_x_orig.reshape(train_set_x_orig.shape[0], -1).T\n",
    "test_set_x_flatten = test_set_x_orig.reshape(test_set_x_orig.shape[0], -1).T"
   ]
  },
  {
   "cell_type": "markdown",
   "id": "be42bdd8",
   "metadata": {},
   "source": [
    "Color images are represented using three color channels: **Red**, **Green**, and **Blue** (RGB).  \n",
    "Each pixel is a vector of three integers ranging from **0** to **255**.\n",
    "\n",
    "A common preprocessing step for image datasets is to **standardize pixel values**.  \n",
    "While you could subtract the mean and divide by the standard deviation, in most cases it’s enough to simply **scale all pixel values to be between 0 and 1** by dividing by 255."
   ]
  },
  {
   "cell_type": "code",
   "execution_count": 7,
   "id": "80b14e90",
   "metadata": {},
   "outputs": [],
   "source": [
    "# Normalize pixel values to be between 0 and 1\n",
    "train_set_x = train_set_x_flatten / 255.\n",
    "test_set_x = test_set_x_flatten / 255."
   ]
  },
  {
   "cell_type": "markdown",
   "id": "392457b9",
   "metadata": {},
   "source": [
    "**Here’s a typical preprocessing workflow for image classification:**\n",
    "\n",
    "- Inspect the data dimensions (`m_train`, `m_test`, `num_px`, ...)\n",
    "- Flatten each image into a single vector of shape `(num_px * num_px * 3, 1)`\n",
    "- Normalize pixel values to the range [0, 1]"
   ]
  },
  {
   "cell_type": "markdown",
   "id": "88a0e4b2",
   "metadata": {},
   "source": [
    "---\n",
    "## Part 2. Building the Parts of the Algorithm"
   ]
  },
  {
   "cell_type": "markdown",
   "id": "c57c76ac",
   "metadata": {},
   "source": [
    "**Mathematical expression of the algorithm**:\n",
    "\n",
    "For one example $x^{(i)}$:\n",
    "$$z^{(i)} = w^T x^{(i)} + b \\tag{1}$$\n",
    "$$\\hat{y}^{(i)} = a^{(i)} = sigmoid(z^{(i)})\\tag{2}$$ \n",
    "$$ \\mathcal{L}(a^{(i)}, y^{(i)}) =  - y^{(i)}  \\log(a^{(i)}) - (1-y^{(i)} )  \\log(1-a^{(i)})\\tag{3}$$\n",
    "\n",
    "The cost is then computed by summing over all training examples:\n",
    "$$ J = \\frac{1}{m} \\sum_{i=1}^m \\mathcal{L}(a^{(i)}, y^{(i)})\\tag{6}$$\n",
    "\n",
    "**The learning process involves the following key steps:**\n",
    "\n",
    "- Initialize the model parameters ($w$, $b$)\n",
    "\n",
    "- Train the model by minimizing the cost function\n",
    "\n",
    "- Predict using the learned parameters\n",
    "\n",
    "- Evaluate performance and draw conclusions"
   ]
  },
  {
   "cell_type": "markdown",
   "id": "06cc4f75",
   "metadata": {},
   "source": [
    "### 2.1 Sigmoid Function\n",
    "\n",
    "The `sigmoid()` function is used to map any real-valued number into the range (0, 1), making it suitable for binary classification.\n",
    "\n",
    "$sigmoid(z) = \\frac{1}{1 + e^{-z}}$ for $z = w^T x + b$"
   ]
  },
  {
   "cell_type": "code",
   "execution_count": 8,
   "id": "714ca05a",
   "metadata": {},
   "outputs": [],
   "source": [
    "def sigmoid(z):\n",
    "    \"\"\"\n",
    "    Compute the sigmoid of z\n",
    "\n",
    "    Parameters:\n",
    "        z (scalar or np.ndarray): Input value or array\n",
    "\n",
    "    Returns:\n",
    "        s (scalar or np.ndarray): Sigmoid of z\n",
    "    \"\"\"\n",
    "    \n",
    "    s = 1 / (1 + np.exp(-z))\n",
    "    return s"
   ]
  },
  {
   "cell_type": "markdown",
   "id": "93c892e2",
   "metadata": {},
   "source": [
    "### 2.2 Initializing parameters"
   ]
  },
  {
   "cell_type": "code",
   "execution_count": 9,
   "id": "b4454f68",
   "metadata": {},
   "outputs": [],
   "source": [
    "def initialize(dim):\n",
    "    \"\"\"\n",
    "    This function creates a vector of zeros of shape (dim, 1) for w and initializes b to 0.\n",
    "\n",
    "    Parameters:\n",
    "        dim (int): Number of features (input size)\n",
    "\n",
    "    Returns:\n",
    "        w (np.ndarray): Weight vector of shape (dim, 1), initialized to zeros\n",
    "        b (float): Bias term, initialized to 0\n",
    "    \"\"\"\n",
    "    \n",
    "    w = np.zeros((dim, 1))\n",
    "    b = 0.0\n",
    "    return w, b"
   ]
  },
  {
   "cell_type": "markdown",
   "id": "58a66423",
   "metadata": {},
   "source": [
    "### 2.3 Forward Propagation"
   ]
  },
  {
   "cell_type": "markdown",
   "id": "0e556fb3",
   "metadata": {},
   "source": [
    "📡 Forward Propagation\n",
    "- During forward propagation, we compute:\n",
    "\n",
    "- The predicted output (activation) for all examples $A = \\sigma(w^T X + b) = (a^{(1)}, a^{(2)}, ..., a^{(m-1)}, a^{(m)})$\n",
    "\n",
    "- The cost function using binary cross-entropy $J = -\\frac{1}{m}\\sum_{i=1}^{m}(y^{(i)}\\log(a^{(i)})+(1-y^{(i)})\\log(1-a^{(i)}))$"
   ]
  },
  {
   "cell_type": "code",
   "execution_count": 10,
   "id": "0ae111e5",
   "metadata": {},
   "outputs": [],
   "source": [
    "def forward(w, b, X, Y):\n",
    "    \"\"\"\n",
    "    Performs forward propagation and computes the cost.\n",
    "\n",
    "    Parameters:\n",
    "        w (np.ndarray): Weights, shape (num_features, 1)\n",
    "        b (float): Bias\n",
    "        X (np.ndarray): Input data, shape (num_features, m)\n",
    "        Y (np.ndarray): True labels, shape (1, m)\n",
    "\n",
    "    Returns:\n",
    "        A (np.ndarray): Activation values (predicted probabilities), shape (1, m)\n",
    "        cost (float): Binary cross-entropy cost\n",
    "    \"\"\"\n",
    "    \n",
    "    m = X.shape[1]\n",
    "\n",
    "    A = sigmoid(np.dot(w.T, X) + b)\n",
    "    cost = (-1 / m) * np.sum(Y * np.log(A) + (1 - Y) * np.log(1 - A))\n",
    "\n",
    "    return A, np.squeeze(cost)"
   ]
  },
  {
   "cell_type": "markdown",
   "id": "ad75c5b1",
   "metadata": {},
   "source": [
    "### 2.4 Backward Propagation"
   ]
  },
  {
   "cell_type": "markdown",
   "id": "064de543",
   "metadata": {},
   "source": [
    "Here are the two formulas we will be using: \n",
    "\n",
    "$$ \\frac{\\partial J}{\\partial w} = \\frac{1}{m}X(A-Y)^T\\tag{7}$$\n",
    "$$ \\frac{\\partial J}{\\partial b} = \\frac{1}{m} \\sum_{i=1}^m (a^{(i)}-y^{(i)})\\tag{8}$$"
   ]
  },
  {
   "cell_type": "code",
   "execution_count": 11,
   "id": "cb69c52c",
   "metadata": {},
   "outputs": [],
   "source": [
    "def backward(A, X, Y):\n",
    "    \"\"\"\n",
    "    Computes the gradients of the cost function with respect to weights and bias.\n",
    "\n",
    "    Parameters:\n",
    "        A (np.ndarray): Predicted activations, shape (1, m)\n",
    "        X (np.ndarray): Input data, shape (num_features, m)\n",
    "        Y (np.ndarray): True labels, shape (1, m)\n",
    "\n",
    "    Returns:\n",
    "        grads (dict): Dictionary containing gradients \"dw\" and \"db\"\n",
    "    \"\"\"\n",
    "    \n",
    "    m = X.shape[1]\n",
    "\n",
    "    dw = (1 / m) * np.dot(X, (A - Y).T)\n",
    "    db = np.mean(A - Y)\n",
    "\n",
    "    grads = {\"dw\": dw, \"db\": db}\n",
    "    return grads"
   ]
  },
  {
   "cell_type": "markdown",
   "id": "8f37dfc3",
   "metadata": {},
   "source": [
    "### 2.5 Gradient Descent Optimization"
   ]
  },
  {
   "cell_type": "markdown",
   "id": "3d04c554",
   "metadata": {},
   "source": [
    "$\\theta = \\theta - \\alpha \\frac{\\partial J }{ \\partial \\theta }$"
   ]
  },
  {
   "cell_type": "code",
   "execution_count": 12,
   "id": "5ca49e18",
   "metadata": {},
   "outputs": [],
   "source": [
    "def optimize(w, b, X, Y, num_iterations=100, learning_rate=0.009):\n",
    "    \"\"\"\n",
    "    Optimizes weights and bias using gradient descent.\n",
    "\n",
    "    Parameters:\n",
    "        w (np.ndarray): Initial weights\n",
    "        b (float): Initial bias\n",
    "        X (np.ndarray): Training data\n",
    "        Y (np.ndarray): Labels\n",
    "        num_iterations (int): Number of iterations for optimization\n",
    "        learning_rate (float): Step size for gradient descent\n",
    "\n",
    "    Returns:\n",
    "        params (dict): Updated weights and bias\n",
    "        grads (dict): Final gradients\n",
    "        costs (list): Cost history for monitoring learning progress\n",
    "    \"\"\"\n",
    "    \n",
    "    w = copy.deepcopy(w)\n",
    "    b = copy.deepcopy(b)\n",
    "\n",
    "    costs = []\n",
    "\n",
    "    for i in range(num_iterations):\n",
    "        A, cost = forward(w, b, X, Y)\n",
    "        grads = backward(A, X, Y)\n",
    "\n",
    "        dw = grads[\"dw\"]\n",
    "        db = grads[\"db\"]\n",
    "\n",
    "        w -= learning_rate * dw\n",
    "        b -= learning_rate * db\n",
    "\n",
    "        # Record and print cost every 100 iterations\n",
    "        if i % 100 == 0:\n",
    "            costs.append(cost)\n",
    "            print(f\"Cost after iteration {i}: {cost:.6f}\")\n",
    "\n",
    "    params = {\"w\": w, \"b\": b}\n",
    "    grads = {\"dw\": dw, \"db\": db}\n",
    "\n",
    "    return params, grads, costs"
   ]
  },
  {
   "cell_type": "markdown",
   "id": "f6ebcb99",
   "metadata": {},
   "source": [
    "### 2.6 Predict"
   ]
  },
  {
   "cell_type": "code",
   "execution_count": 13,
   "id": "9d623401",
   "metadata": {},
   "outputs": [],
   "source": [
    "def predict(w, b, X):\n",
    "    \"\"\"\n",
    "    Predicts labels for a given dataset using learned parameters.\n",
    "\n",
    "    Parameters:\n",
    "        w (np.ndarray): Learned weights\n",
    "        b (float): Learned bias\n",
    "        X (np.ndarray): Data to predict on\n",
    "\n",
    "    Returns:\n",
    "        Y_prediction (np.ndarray): Predicted labels (0 or 1)\n",
    "    \"\"\"\n",
    "    \n",
    "    m = X.shape[1]\n",
    "    Y_prediction = np.zeros((1, m))\n",
    "\n",
    "    A = sigmoid(np.dot(w.T, X) + b)\n",
    "\n",
    "    Y_prediction[0, :] = (A > 0.5).astype(int)\n",
    "    return Y_prediction"
   ]
  },
  {
   "cell_type": "markdown",
   "id": "c6114710",
   "metadata": {},
   "source": [
    "✅ What We've Built So Far\n",
    "\n",
    "<font color='blue'>\n",
    "    \n",
    "- Computing the sigmoid activation\n",
    "\n",
    "- Initializing model parameters (w, b)\n",
    "\n",
    "- Optimizing the model:\n",
    "\n",
    "- Calculating cost and gradients\n",
    "\n",
    "- Updating parameters using gradient descent\n",
    "\n",
    "- Predicting outputs on new data using the learned parameters"
   ]
  },
  {
   "cell_type": "markdown",
   "id": "91929826",
   "metadata": {},
   "source": [
    "---\n",
    "## Part 3. Model"
   ]
  },
  {
   "cell_type": "code",
   "execution_count": 14,
   "id": "e81a7f58",
   "metadata": {},
   "outputs": [],
   "source": [
    "def model(X_train, Y_train, X_test, Y_test, num_iterations=2000, learning_rate=0.5):\n",
    "    \"\"\"\n",
    "    Builds and trains the perceptron model.\n",
    "\n",
    "    Parameters:\n",
    "        X_train (np.ndarray): Training data\n",
    "        Y_train (np.ndarray): Training labels\n",
    "        X_test (np.ndarray): Test data\n",
    "        Y_test (np.ndarray): Test labels\n",
    "        num_iterations (int): Number of iterations for gradient descent\n",
    "        learning_rate (float): Learning rate for gradient updates\n",
    "\n",
    "    Returns:\n",
    "        dict: A dictionary containing learned parameters and evaluation metrics\n",
    "    \"\"\"\n",
    "    \n",
    "    # Initialize parameters\n",
    "    w, b = initialize(X_train.shape[0])\n",
    "\n",
    "    # Train the model\n",
    "    params, grads, costs = optimize(w, b, X_train, Y_train, num_iterations, learning_rate)\n",
    "    w, b = params[\"w\"], params[\"b\"]\n",
    "\n",
    "    # Predict on train and test sets\n",
    "    Y_prediction_train = predict(w, b, X_train)\n",
    "    Y_prediction_test = predict(w, b, X_test)\n",
    "\n",
    "    # Print accuracy\n",
    "    train_accuracy = 100 - np.mean(np.abs(Y_prediction_train - Y_train)) * 100\n",
    "    test_accuracy = 100 - np.mean(np.abs(Y_prediction_test - Y_test)) * 100\n",
    "\n",
    "    print(f\"Train accuracy: {train_accuracy:.2f} %\")\n",
    "    print(f\"Test accuracy: {test_accuracy:.2f} %\")\n",
    "\n",
    "    return {\n",
    "        \"costs\": costs,\n",
    "        \"Y_prediction_test\": Y_prediction_test,\n",
    "        \"Y_prediction_train\": Y_prediction_train,\n",
    "        \"w\": w,\n",
    "        \"b\": b,\n",
    "        \"learning_rate\": learning_rate,\n",
    "        \"num_iterations\": num_iterations\n",
    "    }"
   ]
  },
  {
   "cell_type": "code",
   "execution_count": 15,
   "id": "97c54fc0",
   "metadata": {},
   "outputs": [
    {
     "name": "stdout",
     "output_type": "stream",
     "text": [
      "Cost after iteration 0: 0.693147\n",
      "Cost after iteration 100: 0.584508\n",
      "Cost after iteration 200: 0.466949\n",
      "Cost after iteration 300: 0.376007\n",
      "Cost after iteration 400: 0.331463\n",
      "Cost after iteration 500: 0.303273\n",
      "Cost after iteration 600: 0.279880\n",
      "Cost after iteration 700: 0.260042\n",
      "Cost after iteration 800: 0.242941\n",
      "Cost after iteration 900: 0.228004\n",
      "Cost after iteration 1000: 0.214820\n",
      "Cost after iteration 1100: 0.203078\n",
      "Cost after iteration 1200: 0.192544\n",
      "Cost after iteration 1300: 0.183033\n",
      "Cost after iteration 1400: 0.174399\n",
      "Cost after iteration 1500: 0.166521\n",
      "Cost after iteration 1600: 0.159305\n",
      "Cost after iteration 1700: 0.152667\n",
      "Cost after iteration 1800: 0.146542\n",
      "Cost after iteration 1900: 0.140872\n",
      "Train accuracy: 99.04 %\n",
      "Test accuracy: 70.00 %\n"
     ]
    }
   ],
   "source": [
    "perceptron_model = model(\n",
    "    train_set_x, train_set_y,\n",
    "    test_set_x, test_set_y,\n",
    "    num_iterations=2000,\n",
    "    learning_rate=0.005\n",
    ")"
   ]
  },
  {
   "cell_type": "code",
   "execution_count": 16,
   "id": "3f8de510",
   "metadata": {},
   "outputs": [
    {
     "data": {
      "image/png": "[encoded data removed]",
      "text/plain": [
       "<Figure size 640x480 with 1 Axes>"
      ]
     },
     "metadata": {},
     "output_type": "display_data"
    }
   ],
   "source": [
    "# Plot the cost over iterations\n",
    "costs = np.squeeze(perceptron_model['costs'])\n",
    "\n",
    "plt.plot(costs)\n",
    "plt.ylabel('Cost')\n",
    "plt.xlabel('Iterations (per hundred)')\n",
    "plt.title(f\"Learning Curve (Learning rate = {perceptron_model['learning_rate']})\")\n",
    "plt.show()"
   ]
  },
  {
   "cell_type": "code",
   "execution_count": 17,
   "id": "9b4b7fb4",
   "metadata": {},
   "outputs": [
    {
     "name": "stdout",
     "output_type": "stream",
     "text": [
      "True label: y = 1\n",
      "Predicted: \"cat\"\n"
     ]
    },
    {
     "data": {
      "image/png": "[encoded data removed]",
      "text/plain": [
       "<Figure size 640x480 with 1 Axes>"
      ]
     },
     "metadata": {},
     "output_type": "display_data"
    }
   ],
   "source": [
    "# Show prediction for a sample image from the test set\n",
    "index = 2\n",
    "plt.imshow(test_set_x_orig[index])\n",
    "true_label = test_set_y[0, index]\n",
    "predicted_label = int(perceptron_model['Y_prediction_test'][0, index])\n",
    "predicted_class = classes[predicted_label].decode(\"utf-8\")\n",
    "\n",
    "print(f\"True label: y = {true_label}\")\n",
    "print(f\"Predicted: \\\"{predicted_class}\\\"\")"
   ]
  },
  {
   "cell_type": "markdown",
   "id": "ad0875ee",
   "metadata": {},
   "source": [
    "---\n",
    "\n",
    "## Part 4. Test your own picture"
   ]
  },
  {
   "cell_type": "code",
   "execution_count": 22,
   "id": "fb7cb078",
   "metadata": {},
   "outputs": [
    {
     "name": "stdout",
     "output_type": "stream",
     "text": [
      "Prediction for './test_cat_noncat/myimg0.jpg': cat (y = 1)\n"
     ]
    },
    {
     "data": {
      "image/png": "[encoded data removed]",
      "text/plain": [
       "<Figure size 640x480 with 1 Axes>"
      ]
     },
     "metadata": {},
     "output_type": "display_data"
    }
   ],
   "source": [
    "from PIL import Image\n",
    "\n",
    "# Load and display custom image\n",
    "fname = f\"./test_cat_noncat/myimg{0}.jpg\"\n",
    "image = Image.open(fname).resize((num_px, num_px))\n",
    "image_array = np.array(image)\n",
    "plt.imshow(image_array)\n",
    "plt.axis(\"off\")\n",
    "\n",
    "# Preprocess and predict\n",
    "image_processed = image_array / 255.\n",
    "image_processed = image_processed.reshape((1, num_px * num_px * 3)).T\n",
    "\n",
    "prediction = predict(perceptron_model[\"w\"], perceptron_model[\"b\"], image_processed)\n",
    "predicted_class = classes[int(np.squeeze(prediction))].decode(\"utf-8\")\n",
    "\n",
    "print(f\"Prediction for '{fname}': {predicted_class} (y = {int(np.squeeze(prediction))})\")"
   ]
  },
  {
   "cell_type": "code",
   "execution_count": 23,
   "id": "7b7f6b58",
   "metadata": {},
   "outputs": [
    {
     "name": "stdout",
     "output_type": "stream",
     "text": [
      "Prediction for './test_cat_noncat/myimg1.jpg': non-cat (y = 0)\n"
     ]
    },
    {
     "data": {
      "image/png": "[encoded data removed]",
      "text/plain": [
       "<Figure size 640x480 with 1 Axes>"
      ]
     },
     "metadata": {},
     "output_type": "display_data"
    }
   ],
   "source": [
    "# Load and display another custom image\n",
    "fname = f\"./test_cat_noncat/myimg{1}.jpg\"\n",
    "image = Image.open(fname).resize((num_px, num_px))\n",
    "image_array = np.array(image)\n",
    "plt.imshow(image_array)\n",
    "plt.axis(\"off\")\n",
    "\n",
    "# Preprocess and predict\n",
    "image_processed = image_array / 255.\n",
    "image_processed = image_processed.reshape((1, num_px * num_px * 3)).T\n",
    "\n",
    "prediction = predict(perceptron_model[\"w\"], perceptron_model[\"b\"], image_processed)\n",
    "predicted_class = classes[int(np.squeeze(prediction))].decode(\"utf-8\")\n",
    "\n",
    "print(f\"Prediction for '{fname}': {predicted_class} (y = {int(np.squeeze(prediction))})\")"
   ]
  }
 ],
 "metadata": {
  "kernelspec": {
   "display_name": "Python 3 (ipykernel)",
   "language": "python",
   "name": "python3"
  },
  "language_info": {
   "codemirror_mode": {
    "name": "ipython",
    "version": 3
   },
   "file_extension": ".py",
   "mimetype": "text/x-python",
   "name": "python",
   "nbconvert_exporter": "python",
   "pygments_lexer": "ipython3",
   "version": "3.9.18"
  }
 },
 "nbformat": 4,
 "nbformat_minor": 5
}
